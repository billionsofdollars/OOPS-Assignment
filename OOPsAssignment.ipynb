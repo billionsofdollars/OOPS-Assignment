{
  "nbformat": 4,
  "nbformat_minor": 0,
  "metadata": {
    "colab": {
      "provenance": []
    },
    "kernelspec": {
      "name": "python3",
      "display_name": "Python 3"
    },
    "language_info": {
      "name": "python"
    }
  },
  "cells": [
    {
      "cell_type": "markdown",
      "source": [
        "THEORY QUESTIONS"
      ],
      "metadata": {
        "id": "4uASnsv7zjQX"
      }
    },
    {
      "cell_type": "markdown",
      "source": [
        "Q1. What is Object-Oriented Programming (OOP)?\n",
        "\n",
        "A:\n",
        "Object-Oriented Programming (OOP) is a programming paradigm based on the concept of \"objects\", which can contain data and methods. It helps in organizing code by grouping related data and behavior into classes and objects. This promotes reusability, scalability, and maintainability."
      ],
      "metadata": {
        "id": "tIc8sQxvyORW"
      }
    },
    {
      "cell_type": "markdown",
      "source": [
        "Q2. What is a class in OOP?\n",
        "\n",
        "A:\n",
        "A class is a blueprint for creating objects. It defines attributes and behaviors (methods) that its instances will have. For example, a Car class may include properties like color and speed, and methods like drive and stop."
      ],
      "metadata": {
        "id": "db4ikkuAyTTk"
      }
    },
    {
      "cell_type": "markdown",
      "source": [
        "Q3. What is an object in OOP?\n",
        "\n",
        "A:\n",
        "An object is an instance of a class. It represents a real-world entity with attributes and behaviors defined by its class. For example, my_car = Car() creates an object of the Car class.\n",
        "\n"
      ],
      "metadata": {
        "id": "MhKHnTbYyW66"
      }
    },
    {
      "cell_type": "markdown",
      "source": [
        "Q4. What is the difference between abstraction and encapsulation?\n",
        "\n",
        "A:\n",
        "\n",
        "Abstraction hides the complex reality while exposing only the necessary parts.\n",
        "\n",
        "Encapsulation wraps data and methods into a single unit (class) and restricts access to some of the object's components."
      ],
      "metadata": {
        "id": "sFP2Dnw7yb8_"
      }
    },
    {
      "cell_type": "markdown",
      "source": [
        "Q5. What are dunder methods in Python?\n",
        "\n",
        "A:\n",
        "Dunder (double underscore) methods are special methods in Python that start and end with double underscores like __init__, __str__, __repr__. They are also called magic methods and allow customization of basic behavior of objects.\n",
        "\n"
      ],
      "metadata": {
        "id": "t7PF-1zeyfKA"
      }
    },
    {
      "cell_type": "markdown",
      "source": [
        "Q6. Explain the concept of inheritance in OOP.\n",
        "\n",
        "A:\n",
        "Inheritance allows a class to inherit properties and methods from another class. It promotes code reusability. A child class can extend or override functionalities of the parent class."
      ],
      "metadata": {
        "id": "no006hm4yiSz"
      }
    },
    {
      "cell_type": "markdown",
      "source": [
        "Q7. What is polymorphism in OOP?\n",
        "\n",
        "A:\n",
        "Polymorphism means \"many forms\". It allows methods to have the same name but behave differently depending on the object that is calling them.\n",
        "\n"
      ],
      "metadata": {
        "id": "DORK71ZoylWQ"
      }
    },
    {
      "cell_type": "markdown",
      "source": [
        "Q8. How is encapsulation achieved in Python?\n",
        "\n",
        "A:\n",
        "Encapsulation is achieved by using private attributes (prefixing with _ or __) and providing public methods (getters/setters) to access or modify them."
      ],
      "metadata": {
        "id": "qYKqpE2synMS"
      }
    },
    {
      "cell_type": "markdown",
      "source": [
        "Q9. What is a constructor in Python?\n",
        "\n",
        "A:\n",
        "A constructor is a special method __init__() that is called when an object is created. It is used to initialize the attributes of the object.\n",
        "\n"
      ],
      "metadata": {
        "id": "i8iMkapqywQE"
      }
    },
    {
      "cell_type": "markdown",
      "source": [
        "Q10. What are class and static methods in Python?\n",
        "\n",
        "A:\n",
        "\n",
        "Class methods use @classmethod and take cls as the first parameter.\n",
        "\n",
        "Static methods use @staticmethod and do not take self or cls. They're utility functions inside a class."
      ],
      "metadata": {
        "id": "Gxfhoks0yzIE"
      }
    },
    {
      "cell_type": "markdown",
      "source": [
        "Q11. What is method overloading in Python?\n",
        "\n",
        "A:\n",
        "Python does not support method overloading in the traditional sense. However, we can achieve similar behavior by using default arguments or variable arguments (*args, **kwargs)."
      ],
      "metadata": {
        "id": "3TIFtaouy22l"
      }
    },
    {
      "cell_type": "markdown",
      "source": [
        "Q12. What is method overriding in OOP?\n",
        "\n",
        "A:\n",
        "Method overriding occurs when a subclass provides a specific implementation of a method already defined in its superclass.\n",
        "\n"
      ],
      "metadata": {
        "id": "07V5k-qly44t"
      }
    },
    {
      "cell_type": "markdown",
      "source": [
        "Q13. What is a property decorator in Python?\n",
        "\n",
        "A:\n",
        "@property is used to make a method behave like an attribute. It allows getting, setting, and deleting values like normal variables but with method logic behind the scenes."
      ],
      "metadata": {
        "id": "oydow_Hfy6xX"
      }
    },
    {
      "cell_type": "markdown",
      "source": [
        "Q14. Why is polymorphism important in OOP?\n",
        "\n",
        "A:\n",
        "Polymorphism enables flexibility and reusability in code. It allows different classes to define methods with the same name, which makes it easier to work with objects in a generic way."
      ],
      "metadata": {
        "id": "3vRUodm3y8uG"
      }
    },
    {
      "cell_type": "markdown",
      "source": [
        "Q15. What is an abstract class in Python?\n",
        "\n",
        "A:\n",
        "An abstract class is a class that cannot be instantiated and is meant to be subclassed. It can have abstract methods that must be implemented in child classes. We use the abc module for this.\n",
        "\n"
      ],
      "metadata": {
        "id": "pgsG5C-1y-v5"
      }
    },
    {
      "cell_type": "markdown",
      "source": [
        "Q16. What are the advantages of OOP?\n",
        "\n",
        "A:\n",
        "\n",
        "Code Reusability\n",
        "\n",
        "Data Encapsulation\n",
        "\n",
        "Easy Maintenance\n",
        "\n",
        "Scalability\n",
        "\n",
        "Real-world Modeling"
      ],
      "metadata": {
        "id": "0jbgQ7zjzBKD"
      }
    },
    {
      "cell_type": "markdown",
      "source": [
        "Q17. What is the difference between a class variable and an instance variable?\n",
        "\n",
        "A:\n",
        "\n",
        "Class variables are shared among all instances.\n",
        "\n",
        "Instance variables are unique to each object."
      ],
      "metadata": {
        "id": "jHM6_Fh9zDjB"
      }
    },
    {
      "cell_type": "markdown",
      "source": [
        "Q18. What is multiple inheritance in Python?\n",
        "\n",
        "A:\n",
        "Multiple inheritance is when a class inherits from more than one base class. Python supports it directly, and the method resolution order (MRO) decides how methods are inherited.\n",
        "\n"
      ],
      "metadata": {
        "id": "mTdsr566zFyM"
      }
    },
    {
      "cell_type": "markdown",
      "source": [
        "Q19. Explain the purpose of __str__ and __repr__ methods in Python.\n",
        "\n",
        "A:\n",
        "\n",
        "__str__ returns a user-friendly string version of the object.\n",
        "\n",
        "__repr__ returns a developer-friendly representation, often used for debugging.\n",
        "\n"
      ],
      "metadata": {
        "id": "x3oCI-1BzH2z"
      }
    },
    {
      "cell_type": "markdown",
      "source": [
        "Q20. What is the significance of the super() function in Python?\n",
        "\n",
        "A:\n",
        "super() is used to call methods from the parent class. It’s especially useful in method overriding to use both child and parent behaviors.\n",
        "\n"
      ],
      "metadata": {
        "id": "TJPWQGJzzL2z"
      }
    },
    {
      "cell_type": "markdown",
      "source": [
        "Q21. What is the significance of the __del__ method in Python?\n",
        "\n",
        "A:\n",
        "__del__ is a destructor method that is called when an object is about to be destroyed. It’s used for cleanup, though not commonly recommended.\n",
        "\n"
      ],
      "metadata": {
        "id": "ja2qgv80zNPx"
      }
    },
    {
      "cell_type": "markdown",
      "source": [
        "Q22. What is the difference between @staticmethod and @classmethod in Python?\n",
        "\n",
        "A:\n",
        "\n",
        "@staticmethod doesn't receive self or cls.\n",
        "\n",
        "@classmethod receives cls and can modify class-level data."
      ],
      "metadata": {
        "id": "0ZqzuqEAzPLA"
      }
    },
    {
      "cell_type": "markdown",
      "source": [
        "Q23. How does polymorphism work in Python with inheritance?\n",
        "\n",
        "A:\n",
        "When a method is defined in a parent class and overridden in the child class, polymorphism allows calling the method via a reference to the parent, but the child’s version executes.\n",
        "\n"
      ],
      "metadata": {
        "id": "wkeT1bHvzSdA"
      }
    },
    {
      "cell_type": "markdown",
      "source": [
        "Q24. What is method chaining in Python OOP?\n",
        "\n",
        "A:\n",
        "Method chaining is a programming technique where multiple methods are called on the same object in a single line using dot notation. Each method must return self."
      ],
      "metadata": {
        "id": "dYp1IZnlzVKN"
      }
    },
    {
      "cell_type": "markdown",
      "source": [
        "Q25. What is the purpose of the __call__ method in Python?\n",
        "\n",
        "A:\n",
        "The __call__ method allows an instance of a class to be called as a function. It’s useful for callable objects or function-like behavior.\n",
        "\n"
      ],
      "metadata": {
        "id": "TkjBaiszzWqo"
      }
    },
    {
      "cell_type": "markdown",
      "source": [
        "PRACTICAL QUESTIONS"
      ],
      "metadata": {
        "id": "MaCNinzczt3z"
      }
    },
    {
      "cell_type": "code",
      "source": [
        "#Q1. How do you create a parent class Animal with a method speak() and a child class Dog that overrides speak() to print \"Bark!\"?\n",
        "#A:\n",
        "class Animal {\n",
        "    void speak() {\n",
        "        System.out.println(\"Animal speaks\");\n",
        "    }\n",
        "}\n",
        "\n",
        "class Dog extends Animal {\n",
        "    @Override\n",
        "    void speak() {\n",
        "        System.out.println(\"Bark!\");\n",
        "    }\n",
        "}\n"
      ],
      "metadata": {
        "id": "SJ5XubVYzw6y"
      },
      "execution_count": null,
      "outputs": []
    },
    {
      "cell_type": "code",
      "source": [
        "#Q2. How can we create an abstract class Shape with an area() method and implement it in Circle and Rectangle classes?\n",
        "#A:\n",
        "abstract class Shape {\n",
        "    abstract double area();\n",
        "}\n",
        "\n",
        "class Circle extends Shape {\n",
        "    double radius;\n",
        "    Circle(double r) { this.radius = r; }\n",
        "    double area() { return Math.PI * radius * radius; }\n",
        "}\n",
        "\n",
        "class Rectangle extends Shape {\n",
        "    double length, breadth;\n",
        "    Rectangle(double l, double b) { this.length = l; this.breadth = b; }\n",
        "    double area() { return length * breadth; }\n",
        "}"
      ],
      "metadata": {
        "id": "ZnXif4pIz8e6"
      },
      "execution_count": null,
      "outputs": []
    },
    {
      "cell_type": "code",
      "source": [
        "#Q3. How do you implement multi-level inheritance with Vehicle, Car, and ElectricCar classes?\n",
        "#A:\n",
        "class Vehicle {\n",
        "    String type = \"General Vehicle\";\n",
        "}\n",
        "\n",
        "class Car extends Vehicle {\n",
        "    String model = \"Sedan\";\n",
        "}\n",
        "\n",
        "class ElectricCar extends Car {\n",
        "    int batteryCapacity = 75;\n",
        "}"
      ],
      "metadata": {
        "id": "fYItJWsNz-rr"
      },
      "execution_count": null,
      "outputs": []
    },
    {
      "cell_type": "code",
      "source": [
        "#Q4. How can polymorphism be demonstrated using a base class Bird and derived classes Sparrow and Penguin?\n",
        "#A:\n",
        "\n",
        "class Bird {\n",
        "    void fly() {\n",
        "        System.out.println(\"Bird flies\");\n",
        "    }\n",
        "}\n",
        "\n",
        "class Sparrow extends Bird {\n",
        "    void fly() {\n",
        "        System.out.println(\"Sparrow flies high\");\n",
        "    }\n",
        "}\n",
        "\n",
        "class Penguin extends Bird {\n",
        "    void fly() {\n",
        "        System.out.println(\"Penguins cannot fly\");\n",
        "    }\n",
        "}"
      ],
      "metadata": {
        "id": "UnjtkUEh0AjT"
      },
      "execution_count": null,
      "outputs": []
    },
    {
      "cell_type": "code",
      "source": [
        "#Q5. How do you demonstrate encapsulation using a BankAccount class?\n",
        "#A:\n",
        "class BankAccount {\n",
        "    private double balance;\n",
        "\n",
        "    void deposit(double amount) {\n",
        "        balance += amount;\n",
        "    }\n",
        "\n",
        "    void withdraw(double amount) {\n",
        "        if (amount <= balance) balance -= amount;\n",
        "    }\n",
        "\n",
        "    double getBalance() {\n",
        "        return balance;\n",
        "    }\n",
        "}"
      ],
      "metadata": {
        "id": "k_ZarahG0ETp"
      },
      "execution_count": null,
      "outputs": []
    },
    {
      "cell_type": "code",
      "source": [
        "#Q6. How can you demonstrate runtime polymorphism with a method play() in class Instrument and its derived classes?\n",
        "#A:\n",
        "class Instrument {\n",
        "    void play() {\n",
        "        System.out.println(\"Playing instrument\");\n",
        "    }\n",
        "}\n",
        "\n",
        "class Guitar extends Instrument {\n",
        "    void play() {\n",
        "        System.out.println(\"Playing Guitar\");\n",
        "    }\n",
        "}\n",
        "\n",
        "class Piano extends Instrument {\n",
        "    void play() {\n",
        "        System.out.println(\"Playing Piano\");\n",
        "    }\n",
        "}\n"
      ],
      "metadata": {
        "id": "bAmasgkz0GPx"
      },
      "execution_count": null,
      "outputs": []
    },
    {
      "cell_type": "code",
      "source": [
        "#Q7. How do you use class and static methods in MathOperations class?\n",
        "#A:\n",
        "class MathOperations {\n",
        "    static int subtract_numbers(int a, int b) {\n",
        "        return a - b;\n",
        "    }\n",
        "\n",
        "    static int add_numbers(int a, int b) {\n",
        "        return a + b;\n",
        "    }\n",
        "}"
      ],
      "metadata": {
        "id": "T2wvXySP0Tnx"
      },
      "execution_count": null,
      "outputs": []
    },
    {
      "cell_type": "code",
      "source": [
        "#Q8. How can a Person class count how many instances have been created?\n",
        "#A:\n",
        "class Person {\n",
        "    static int count = 0;\n",
        "\n",
        "    Person() {\n",
        "        count++;\n",
        "    }\n",
        "\n",
        "    static int getCount() {\n",
        "        return count;\n",
        "    }\n",
        "}"
      ],
      "metadata": {
        "id": "vs2DVwGW0UNV"
      },
      "execution_count": null,
      "outputs": []
    },
    {
      "cell_type": "code",
      "source": [
        "#Q9. How do you override the toString() method in a Fraction class?\n",
        "#A:\n",
        "class Fraction {\n",
        "    int numerator, denominator;\n",
        "\n",
        "    Fraction(int n, int d) {\n",
        "        numerator = n;\n",
        "        denominator = d;\n",
        "    }\n",
        "\n",
        "    public String toString() {\n",
        "        return numerator + \"/\" + denominator;\n",
        "    }\n",
        "}"
      ],
      "metadata": {
        "id": "m4V9aLdH0Vzp"
      },
      "execution_count": null,
      "outputs": []
    },
    {
      "cell_type": "code",
      "source": [
        "#Q10. How can operator overloading be demonstrated in Python using a Vector class?\n",
        "#A:\n",
        "class Vector:\n",
        "    def __init__(self, x, y):\n",
        "        self.x = x\n",
        "        self.y = y\n",
        "\n",
        "    def __add__(self, other):\n",
        "        return Vector(self.x + other.x, self.y + other.y)\n",
        "\n",
        "    def __str__(self):\n",
        "        return f\"({self.x}, {self.y})\""
      ],
      "metadata": {
        "id": "YS7qHy4H0Xuq"
      },
      "execution_count": null,
      "outputs": []
    },
    {
      "cell_type": "code",
      "source": [
        "#Q11. How do you create a Person class with a greet() method?\n",
        "#A:\n",
        "class Person:\n",
        "    def __init__(self, name, age):\n",
        "        self.name = name\n",
        "        self.age = age\n",
        "\n",
        "    def greet(self):\n",
        "        print(f\"Hello, my name is {self.name} and I am {self.age} years old.\")"
      ],
      "metadata": {
        "id": "bI5ULVg_0iKM"
      },
      "execution_count": null,
      "outputs": []
    },
    {
      "cell_type": "code",
      "source": [
        "#Q12. How to create a Student class that calculates the average grade?\n",
        "#A:\n",
        "class Student:\n",
        "    def __init__(self, name, grades):\n",
        "        self.name = name\n",
        "        self.grades = grades\n",
        "\n",
        "    def average_grade(self):\n",
        "        return sum(self.grades) / len(self.grades)"
      ],
      "metadata": {
        "id": "mA1zTgR50i-v"
      },
      "execution_count": null,
      "outputs": []
    },
    {
      "cell_type": "code",
      "source": [
        "#Q13. How do you create a Rectangle class with set_dimensions() and area() methods?\n",
        "#A:\n",
        "class Rectangle:\n",
        "    def set_dimensions(self, length, breadth):\n",
        "        self.length = length\n",
        "        self.breadth = breadth\n",
        "\n",
        "    def area(self):\n",
        "        return self.length * self.breadth"
      ],
      "metadata": {
        "id": "-faX_U8N0lPw"
      },
      "execution_count": null,
      "outputs": []
    },
    {
      "cell_type": "code",
      "source": [
        "#Q14. How do you extend an Employee class to create a Manager class that includes a bonus in salary calculation?\n",
        "#A:\n",
        "class Employee:\n",
        "    def calculate_salary(self, hours, rate):\n",
        "        return hours * rate\n",
        "\n",
        "class Manager(Employee):\n",
        "    def calculate_salary(self, hours, rate, bonus):\n",
        "        return super().calculate_salary(hours, rate) + bonus"
      ],
      "metadata": {
        "id": "nlsRCbRa0moP"
      },
      "execution_count": null,
      "outputs": []
    },
    {
      "cell_type": "code",
      "source": [
        "#Q15. How do you create a Product class that calculates total price using name, price, and quantity?\n",
        "#A:\n",
        "class Product:\n",
        "    def __init__(self, name, price, quantity):\n",
        "        self.name = name\n",
        "        self.price = price\n",
        "        self.quantity = quantity\n",
        "\n",
        "    def total_price(self):\n",
        "        return self.price * self.quantity\n"
      ],
      "metadata": {
        "id": "ReJpsYPd0okI"
      },
      "execution_count": null,
      "outputs": []
    },
    {
      "cell_type": "code",
      "source": [
        "#Q16. How do you define an abstract method sound() in Animal class and implement it in Cow and Sheep?\n",
        "#A:\n",
        "from abc import ABC, abstractmethod\n",
        "\n",
        "class Animal(ABC):\n",
        "    @abstractmethod\n",
        "    def sound(self):\n",
        "        pass\n",
        "\n",
        "class Cow(Animal):\n",
        "    def sound(self):\n",
        "        return \"Moo\"\n",
        "\n",
        "class Sheep(Animal):\n",
        "    def sound(self):\n",
        "        return \"Baa\""
      ],
      "metadata": {
        "id": "y6uslZF20qw9"
      },
      "execution_count": null,
      "outputs": []
    },
    {
      "cell_type": "code",
      "source": [
        "#Q17. How do you create a Book class that returns formatted book details using get_book_info()?\n",
        "#A:\n",
        "class Book:\n",
        "    def __init__(self, title, author, year_published):\n",
        "        self.title = title\n",
        "        self.author = author\n",
        "        self.year_published = year_published\n",
        "\n",
        "    def get_book_info(self):\n",
        "        return f\"{self.title} by {self.author}, published in {self.year_published}\""
      ],
      "metadata": {
        "id": "i7WNSdnc0sbL"
      },
      "execution_count": null,
      "outputs": []
    },
    {
      "cell_type": "code",
      "source": [
        "#Q18. How do you create a House class and a derived class Mansion with an extra attribute?\n",
        "#A:\n",
        "class House:\n",
        "    def __init__(self, address, price):\n",
        "        self.address = address\n",
        "        self.price = price\n",
        "\n",
        "class Mansion(House):\n",
        "    def __init__(self, address, price, number_of_rooms):\n",
        "        super().__init__(address, price)\n",
        "        self.number_of_rooms = number_of_rooms"
      ],
      "metadata": {
        "id": "XiLs2nEq0uDV"
      },
      "execution_count": null,
      "outputs": []
    }
  ]
}